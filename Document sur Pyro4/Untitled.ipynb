{
 "cells": [
  {
   "cell_type": "code",
   "execution_count": 11,
   "id": "b2060f93-b77f-4b8c-8e49-25dac953e95e",
   "metadata": {},
   "outputs": [],
   "source": [
    "import tkinter"
   ]
  },
  {
   "cell_type": "code",
   "execution_count": 12,
   "id": "e79b4755-3dfd-4f3b-beba-6e73a5916ea6",
   "metadata": {},
   "outputs": [],
   "source": [
    "app = tkinter.Tk()\n",
    "lb = tkinter.Label(app, text='Hello')\n",
    "txt = tkinter.Entry(app, width=30)\n",
    "lb.pack()\n",
    "app.mainloop()"
   ]
  },
  {
   "cell_type": "code",
   "execution_count": null,
   "id": "50567adc-88f6-46c0-b0f4-9d3772f3ab3b",
   "metadata": {},
   "outputs": [],
   "source": []
  }
 ],
 "metadata": {
  "kernelspec": {
   "display_name": "Python 3 (ipykernel)",
   "language": "python",
   "name": "python3"
  },
  "language_info": {
   "codemirror_mode": {
    "name": "ipython",
    "version": 3
   },
   "file_extension": ".py",
   "mimetype": "text/x-python",
   "name": "python",
   "nbconvert_exporter": "python",
   "pygments_lexer": "ipython3",
   "version": "3.12.0"
  }
 },
 "nbformat": 4,
 "nbformat_minor": 5
}
